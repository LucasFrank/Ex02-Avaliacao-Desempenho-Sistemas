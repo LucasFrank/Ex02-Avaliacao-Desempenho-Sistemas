{
 "cells": [
  {
   "cell_type": "markdown",
   "metadata": {},
   "source": [
    "# Sistema utilizado:\n",
    "Foi usado o programa 7z para o desenvolvimento das seguintes questões.\n",
    "Para a execução, foi utilizado 4 filmes totalizando 6.2GB para compressão.\n",
    "E para monitorar o sistema, foi usado os comandos VMSTAT e IOSTAT."
   ]
  },
  {
   "cell_type": "markdown",
   "metadata": {},
   "source": [
    "# Utilização Média da CPU e Disco."
   ]
  },
  {
   "cell_type": "code",
   "execution_count": 29,
   "metadata": {},
   "outputs": [
    {
     "name": "stdout",
     "output_type": "stream",
     "text": [
      "Total time: 385.0s.\n",
      "CPU Average Util: 17.683937823834196%.\n",
      "CPU Average Util: 6.857142857142856%.\n",
      "Disk Average Util: 52.33287564766842%.\n"
     ]
    }
   ],
   "source": [
    "import pandas as pd\n",
    "import numpy as np\n",
    "\n",
    "def busyTime(us):\n",
    "    count  = 0\n",
    "    busyTimeList = []\n",
    "    for i in us:\n",
    "        if i > 10:\n",
    "            count += 1\n",
    "        elif count != 0:\n",
    "            busyTimeList.append(count)\n",
    "            count = 0\n",
    "\n",
    "    return busyTimeList\n",
    "\n",
    "\n",
    "df = pd.read_csv('resultCPUVMSTAT.csv')\n",
    "df['time'] = pd.to_datetime(df['time'])\n",
    "\n",
    "T = df['time'][len(df) - 1] - df['time'][0]\n",
    "T = T.total_seconds() # tempo de execução da compressão\n",
    "\n",
    "btlist = busyTime(df['us'])\n",
    "busyTimeCPU = np.mean(btlist)\n",
    "\n",
    "print('Total time: {}s.'.format(T))\n",
    "\n",
    "# FEITO A MEDIA DAS UTILIZAÇÔES DA CPU DENTRO DO TEMPO DE EXECUÇÂO\n",
    "CPUutil1 = np.mean(df['us'])\n",
    "print('CPU Average Util: {}%.'.format(CPUutil1))\n",
    "\n",
    "\n",
    "# Utilizando que U = B / T sendo B o tempo que a CPU passou ocupada e T o tempo total de execução do sistema.\n",
    "CPUutil2 = (busyTimeCPU / T) * 100\n",
    "print('CPU Average Util: {}%.'.format(CPUutil2))\n",
    "\n",
    "df1 = pd.read_csv('resultDisk.csv') \n",
    "\n",
    "# FEITO A MEDIA DAS UTILIZAÇÔES DO DISCO DENTRO DO TEMPO DE EXECUÇÂO\n",
    "Diskutil = np.mean(df1['%util'])\n",
    "print('Disk Average Util: {}%.'.format(Diskutil))\n"
   ]
  },
  {
   "cell_type": "markdown",
   "metadata": {},
   "source": [
    "# Demanda Média da CPU, Disco E Throughput do Disco:"
   ]
  },
  {
   "cell_type": "code",
   "execution_count": 41,
   "metadata": {},
   "outputs": [
    {
     "name": "stdout",
     "output_type": "stream",
     "text": [
      "Disk Demand: 0.003661122074346511.\n",
      "System Throughput: 142.9421761551328.\n",
      "CPU Demand : 0.0012371392614480771.\n",
      "CPU Demand : 0.00047971445808275023.\n"
     ]
    }
   ],
   "source": [
    "Xdfdisk = df1['r/s'] + df1['w/s']\n",
    "Xdisk = np.mean(Xdfdisk)\n",
    "\n",
    "Sdisk = (Diskutil / 100) / Xdisk\n",
    "Ddisk = (Diskutil / 100) * Sdisk\n",
    "\n",
    "print('Disk Demand: {}.'.format(Ddisk))\n",
    "\n",
    "Xsystem = (Diskutil / 100) / Ddisk\n",
    "\n",
    "print('Disck Throughput: {}.'.format(Xdisk))\n",
    "\n",
    "# Uk = X * Dk\n",
    "CPUdemand = (CPUutil1 / 100) / Xsystem\n",
    "print('CPU Demand : {}.'.format(CPUdemand))\n",
    "\n",
    "#Uk = X * Dk\n",
    "CPUdemand2 = (CPUutil2 / 100) / Xsystem\n",
    "print('CPU Demand : {}.'.format(CPUdemand2))"
   ]
  },
  {
   "cell_type": "code",
   "execution_count": null,
   "metadata": {},
   "outputs": [],
   "source": []
  }
 ],
 "metadata": {
  "kernelspec": {
   "display_name": "Python 3",
   "language": "python",
   "name": "python3"
  },
  "language_info": {
   "codemirror_mode": {
    "name": "ipython",
    "version": 3
   },
   "file_extension": ".py",
   "mimetype": "text/x-python",
   "name": "python",
   "nbconvert_exporter": "python",
   "pygments_lexer": "ipython3",
   "version": "3.6.5"
  }
 },
 "nbformat": 4,
 "nbformat_minor": 2
}
