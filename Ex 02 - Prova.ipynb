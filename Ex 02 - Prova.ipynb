{
 "cells": [
  {
   "cell_type": "markdown",
   "metadata": {},
   "source": [
    "# Sistema utilizado:\n",
    "Foi usado o programa 7z para o desenvolvimento das seguintes questões.\n",
    "Para a execução, foi utilizado 4 filmes totalizando 6.2GB para compressão.\n",
    "E para monitorar o sistema, foi usado os comandos VMSTAT e IOSTAT."
   ]
  },
  {
   "cell_type": "markdown",
   "metadata": {},
   "source": [
    "# Utilização Média da CPU e Disco."
   ]
  },
  {
   "cell_type": "code",
   "execution_count": 85,
   "metadata": {},
   "outputs": [
    {
     "name": "stdout",
     "output_type": "stream",
     "text": [
      "Total time: 385.0s.\n",
      "CPU Average Util: 68.57142857142857%.\n",
      "Disk Average Util: 52.33287564766842%.\n"
     ]
    }
   ],
   "source": [
    "import pandas as pd\n",
    "import numpy as np\n",
    "\n",
    "def busyTime(us):\n",
    "    count  = 0\n",
    "    busyTimeList = []\n",
    "    for i in us:\n",
    "        if i > 10:\n",
    "            count += 1\n",
    "        elif count != 0:\n",
    "            busyTimeList.append(count)\n",
    "            count = 0\n",
    "\n",
    "    return busyTimeList\n",
    "\n",
    "\n",
    "df = pd.read_csv('resultCPUVMSTAT.csv')\n",
    "df['time'] = pd.to_datetime(df['time'])\n",
    "\n",
    "T = df['time'][len(df) - 1] - df['time'][0]\n",
    "T = T.total_seconds() # tempo de execução da compressão\n",
    "\n",
    "btlist = busyTime(df['us'])\n",
    "busyTimeCPU = sum(btlist)\n",
    "\n",
    "print('Total time: {}s.'.format(T))\n",
    "\n",
    "# FEITO A MEDIA DAS UTILIZAÇÔES DA CPU DENTRO DO TEMPO DE EXECUÇÂO\n",
    "#CPUutil1 = np.mean(df['us'])\n",
    "#print('CPU Average Util: {}%.'.format(CPUutil1))\n",
    "\n",
    "\n",
    "# Utilizando que U = B / T sendo B o tempo que a CPU passou ocupada e T o tempo total de execução do sistema.\n",
    "CPUutil2 = (busyTimeCPU / T) * 100\n",
    "print('CPU Average Util: {}%.'.format(CPUutil2))\n",
    "\n",
    "df1 = pd.read_csv('resultDisk.csv') \n",
    "\n",
    "# FEITO A MEDIA DAS UTILIZAÇÔES DO DISCO DENTRO DO TEMPO DE EXECUÇÂO\n",
    "Diskutil = np.mean(df1['%util'])\n",
    "print('Disk Average Util: {}%.'.format(Diskutil))\n"
   ]
  },
  {
   "cell_type": "markdown",
   "metadata": {},
   "source": [
    "# Demanda Média da CPU, Disco E Throughput do Disco:"
   ]
  },
  {
   "cell_type": "code",
   "execution_count": 86,
   "metadata": {},
   "outputs": [
    {
     "name": "stdout",
     "output_type": "stream",
     "text": [
      "Disk Demand: 0.5058617508607076.\n",
      "Disk Throughput: 74.80575129533679.\n",
      "CPU Demand : 0.6628273811991113.\n"
     ]
    }
   ],
   "source": [
    "Xdfdisk = df1['r/s'] + df1['w/s']\n",
    "Xdisk = np.mean(Xdfdisk)\n",
    "\n",
    "Sdfdisk = df1['w_await'] + df1['r_await']\n",
    "Sdisk1 = np.mean(Sdfdisk) / 1000\n",
    "#print(Sdisk1)\n",
    "\n",
    "diskDemand = (Diskutil / 100) * Sdisk1\n",
    "\n",
    "print('Disk Demand: {}.'.format(diskDemand))\n",
    "print('Disk Throughput: {}.'.format(Xdisk))\n",
    "\n",
    "Xsystem = (Diskutil / 100) / diskDemand\n",
    "\n",
    "# Uk = X * Dk\n",
    "#CPUDemand = (CPUutil1 / 100) / Xsystem\n",
    "#print('CPU Demand : {}.'.format(CPUDemand))\n",
    "\n",
    "#Uk = X * Dk\n",
    "CPUDemand2 = (CPUutil2 / 100) / Xsystem\n",
    "print('CPU Demand : {}.'.format(CPUDemand2))"
   ]
  },
  {
   "cell_type": "markdown",
   "metadata": {},
   "source": [
    "# Letra D)"
   ]
  },
  {
   "cell_type": "code",
   "execution_count": 88,
   "metadata": {},
   "outputs": [
    {
     "name": "stdout",
     "output_type": "stream",
     "text": [
      "# of Instances simultaneously : 16.850072053231578 .\n"
     ]
    }
   ],
   "source": [
    "# 1 instancia a cada 10 segundos\n",
    "# N* = (D + Z) / Dmax\n",
    "numberOfInstances = (((CPUDemand2 + diskDemand)) + 10)/ max(CPUDemand2,diskDemand)\n",
    "\n",
    "print('# of Instances simultaneously : {} .'.format(numberOfInstances))"
   ]
  },
  {
   "cell_type": "code",
   "execution_count": null,
   "metadata": {},
   "outputs": [],
   "source": []
  }
 ],
 "metadata": {
  "kernelspec": {
   "display_name": "Python 3",
   "language": "python",
   "name": "python3"
  },
  "language_info": {
   "codemirror_mode": {
    "name": "ipython",
    "version": 3
   },
   "file_extension": ".py",
   "mimetype": "text/x-python",
   "name": "python",
   "nbconvert_exporter": "python",
   "pygments_lexer": "ipython3",
   "version": "3.6.5"
  }
 },
 "nbformat": 4,
 "nbformat_minor": 2
}
